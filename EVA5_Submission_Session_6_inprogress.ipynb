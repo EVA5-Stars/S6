{
  "nbformat": 4,
  "nbformat_minor": 0,
  "metadata": {
    "colab": {
      "name": "EVA5_Submission_Session_6_inprogress.ipynb",
      "provenance": [],
      "collapsed_sections": [],
      "include_colab_link": true
    },
    "kernelspec": {
      "name": "python3",
      "display_name": "Python 3"
    }
  },
  "cells": [
    {
      "cell_type": "markdown",
      "metadata": {
        "id": "view-in-github",
        "colab_type": "text"
      },
      "source": [
        "<a href=\"https://colab.research.google.com/github/EVA5-Stars/S6/blob/master/EVA5_Submission_Session_6_inprogress.ipynb\" target=\"_parent\"><img src=\"https://colab.research.google.com/assets/colab-badge.svg\" alt=\"Open In Colab\"/></a>"
      ]
    },
    {
      "cell_type": "markdown",
      "metadata": {
        "id": "d0aHYYuPdlGa",
        "colab_type": "text"
      },
      "source": [
        "* Objective take best 5th code, and run below versions for 25 epochs and report findings:\n",
        "\n",
        ">> 1. with L1 + BN\n",
        "2. with L2 + BN\n",
        "3. with L1 and L2 with BN\n",
        "4. with GBN\n",
        "5. with L1 and L2 with GBN\n",
        "\n",
        "\n",
        "* *You need to write a single loop or iterator to iterate through these conditions.*\n",
        "\n",
        "* Draw ONE graph to show the validation accuracy curves for all 5 jobs above. This graph must have proper legends and it should be clear what we are looking at.\n",
        "\n",
        "* Draw ONE graph to show the loss change curves for all 5 jobs above. This graph must have proper legends and it should be clear what we are looking at.\n",
        "\n",
        "* Find any 25 misclassified images (combined into single image) for \"with GBN\" model. You should be using the saved model from the above jobs.  You MUST show the actual and predicted class names.\n",
        "\n",
        "Submitted By: \n",
        "* Gaurav Makkar\n",
        "* Mohit Bhandari\n",
        "* Suman Debnath\n",
        "* Sriram Iyengar\n",
        "\n",
        "\n"
      ]
    },
    {
      "cell_type": "markdown",
      "metadata": {
        "id": "KEgSJRHhdjdJ",
        "colab_type": "text"
      },
      "source": [
        "## Import `pytorch` libraries and modules:"
      ]
    },
    {
      "cell_type": "code",
      "metadata": {
        "id": "f0gQABsxc9vC",
        "colab_type": "code",
        "colab": {}
      },
      "source": [
        "from __future__ import print_function\n",
        "import torch\n",
        "#import nueral net model in the torch\n",
        "import torch.nn as nn\n",
        "import torch.nn.functional as F\n",
        "import torch.optim as optim\n",
        "#torchvision is the libraray in torch that has many features\n",
        "#and we are using datasets and transforms from this library \n",
        "from torchvision import datasets, transforms"
      ],
      "execution_count": 23,
      "outputs": []
    },
    {
      "cell_type": "code",
      "metadata": {
        "id": "13qcbwl1ZvKz",
        "colab_type": "code",
        "colab": {
          "base_uri": "https://localhost:8080/",
          "height": 136
        },
        "outputId": "f6225f58-3422-412f-b08b-b0f43bd2992d"
      },
      "source": [
        "!rm -rf S6\n",
        "!git clone https://github.com/rsriramiyengar/S6.git"
      ],
      "execution_count": 24,
      "outputs": [
        {
          "output_type": "stream",
          "text": [
            "Cloning into 'S6'...\n",
            "remote: Enumerating objects: 126, done.\u001b[K\n",
            "remote: Counting objects: 100% (126/126), done.\u001b[K\n",
            "remote: Compressing objects: 100% (63/63), done.\u001b[K\n",
            "remote: Total 126 (delta 72), reused 107 (delta 62), pack-reused 0\u001b[K\n",
            "Receiving objects: 100% (126/126), 78.74 KiB | 726.00 KiB/s, done.\n",
            "Resolving deltas: 100% (72/72), done.\n"
          ],
          "name": "stdout"
        }
      ]
    },
    {
      "cell_type": "code",
      "metadata": {
        "id": "E0KZnc579qxQ",
        "colab_type": "code",
        "colab": {}
      },
      "source": [
        "%matplotlib inline\n",
        "import matplotlib.pyplot as plt"
      ],
      "execution_count": 25,
      "outputs": []
    },
    {
      "cell_type": "code",
      "metadata": {
        "id": "kWTNd6P_svjy",
        "colab_type": "code",
        "colab": {
          "base_uri": "https://localhost:8080/",
          "height": 68
        },
        "outputId": "46478bc2-44ec-4de3-b6b5-d547f633fc2b"
      },
      "source": [
        "from google.colab import drive\n",
        "drive.mount('/content/gdrive')\n",
        "\n",
        "!ls /content/gdrive/My\\ Drive/Colab\\ Notebooks/EVA5/"
      ],
      "execution_count": 26,
      "outputs": [
        {
          "output_type": "stream",
          "text": [
            "Drive already mounted at /content/gdrive; to attempt to forcibly remount, call drive.mount(\"/content/gdrive\", force_remount=True).\n",
            "EVA5:Submission-Session_6_Model-BatchNormalization.pt\n",
            "EVA5:Submission-Session_6_Model-GhostBatchNormalization.pt\n"
          ],
          "name": "stdout"
        }
      ]
    },
    {
      "cell_type": "code",
      "metadata": {
        "id": "_WmDblPl9ynq",
        "colab_type": "code",
        "colab": {
          "base_uri": "https://localhost:8080/",
          "height": 34
        },
        "outputId": "99b3f71d-27ba-4171-f276-cde10cb459ac"
      },
      "source": [
        "!pip install torchsummary\n",
        "from torchsummary import summary\n",
        "use_cuda = torch.cuda.is_available()\n",
        "device = torch.device(\"cuda\" if use_cuda else \"cpu\")"
      ],
      "execution_count": 27,
      "outputs": [
        {
          "output_type": "stream",
          "text": [
            "Requirement already satisfied: torchsummary in /usr/local/lib/python3.6/dist-packages (1.5.1)\n"
          ],
          "name": "stdout"
        }
      ]
    },
    {
      "cell_type": "markdown",
      "metadata": {
        "id": "mwNFJKT-jid_",
        "colab_type": "text"
      },
      "source": [
        "## Project Library:\n",
        "\n",
        "*   Ghost Batch Normalization\n",
        "*   Misclassified image collection\n",
        "*   Load the testing and training data with configurabe *batch_size*\n",
        "*   Plot the Loss and Accuracy Graph\n",
        "*   Define the structure of the network\n",
        "*   Setup to create model and summary\n",
        "*   Load the testing and training data with configurabe *batch_size*\n",
        "*   Define test and train functions\n",
        "*   Create a function to *initiate_training* for all conditions\n",
        "\n",
        "\n",
        "\n"
      ]
    },
    {
      "cell_type": "markdown",
      "metadata": {
        "id": "NjA0H9MvxK5_",
        "colab_type": "text"
      },
      "source": [
        "**Ghost Batch Normalization**: \n",
        "\n",
        "A technique originally developed for training with very large batch sizes across many accelerators. "
      ]
    },
    {
      "cell_type": "code",
      "metadata": {
        "id": "b1_ZAeo3xL3M",
        "colab_type": "code",
        "colab": {}
      },
      "source": [
        "from S6.BatchNorm_GhostBatchNorm import GhostBatchNorm\n",
        "from S6.BatchNorm_GhostBatchNorm import BatchNorm"
      ],
      "execution_count": 28,
      "outputs": []
    },
    {
      "cell_type": "markdown",
      "metadata": {
        "id": "-a6UwbhpkJ1y",
        "colab_type": "text"
      },
      "source": [
        "**Collecting Misclassified Images**"
      ]
    },
    {
      "cell_type": "code",
      "metadata": {
        "id": "_egQ6FDKkP2u",
        "colab_type": "code",
        "colab": {}
      },
      "source": [
        "#from S6.S6_plot_misclassfied_image_finder import misclassified_image_finder              \n",
        "def misclassified_image_finder(model, model_path, device, train_loader, image_num, msg):\n",
        "    \n",
        "    data_iter = iter(test_loader)\n",
        "    figure = plt.figure()\n",
        "\n",
        "    plt.title('Misclassified Images: With {}'.format(msg))\n",
        "   \n",
        "    for _i in range(image_num):\n",
        "          data, target = data_iter.next()\n",
        "\n",
        "          model.load_state_dict(torch.load(model_path)) \n",
        "          model.eval()\n",
        "\n",
        "          data, target = data.to(device), target.to(device)\n",
        "\n",
        "          output = model(data)\n",
        "          pred = output.argmax(dim=1, keepdim=True) \n",
        "\n",
        "          for a in range(256):\n",
        "              if(pred[a]!=target[a]):\n",
        "                  \n",
        "                  plt.subplot(5,5,_i+1)\n",
        "                  plt.axis('off')\n",
        "                  plt.imshow(data[a].cpu().numpy().squeeze(),cmap='gray_r')"
      ],
      "execution_count": 29,
      "outputs": []
    },
    {
      "cell_type": "markdown",
      "metadata": {
        "id": "l1_4BwyZX-Oh",
        "colab_type": "text"
      },
      "source": [
        "Plot the Loss and Accuracy Graph"
      ]
    },
    {
      "cell_type": "code",
      "metadata": {
        "id": "W4s4oGPvX_KM",
        "colab_type": "code",
        "colab": {}
      },
      "source": [
        "from S6.S6_plot_stat_loss_acc import plot_stat"
      ],
      "execution_count": 30,
      "outputs": []
    },
    {
      "cell_type": "markdown",
      "metadata": {
        "id": "5IV_0psCd_er",
        "colab_type": "text"
      },
      "source": [
        "Define the structure of the network"
      ]
    },
    {
      "cell_type": "code",
      "metadata": {
        "id": "WQKJsA3yd_Bm",
        "colab_type": "code",
        "colab": {}
      },
      "source": [
        "from S6.S6_Model_structure_create import Net"
      ],
      "execution_count": 31,
      "outputs": []
    },
    {
      "cell_type": "markdown",
      "metadata": {
        "id": "OZnYvmv4i3kV",
        "colab_type": "text"
      },
      "source": [
        "Setup to create model and summary"
      ]
    },
    {
      "cell_type": "code",
      "metadata": {
        "id": "0zBZmMhvi4Zx",
        "colab_type": "code",
        "colab": {}
      },
      "source": [
        "from S6.S6_Model_structure_create import create_model"
      ],
      "execution_count": 32,
      "outputs": []
    },
    {
      "cell_type": "markdown",
      "metadata": {
        "id": "LnrI4dHLuXn2",
        "colab_type": "text"
      },
      "source": [
        "Load the testing and training data with configurabe *batch_size*"
      ]
    },
    {
      "cell_type": "code",
      "metadata": {
        "id": "v6RAQyGbmF5R",
        "colab_type": "code",
        "colab": {}
      },
      "source": [
        "from S6.S6_data_loader import init_train_test_loader"
      ],
      "execution_count": 33,
      "outputs": []
    },
    {
      "cell_type": "markdown",
      "metadata": {
        "id": "hxB3rvKfx62p",
        "colab_type": "text"
      },
      "source": [
        "Define test and train functions"
      ]
    },
    {
      "cell_type": "code",
      "metadata": {
        "id": "UqfCXNm5x9l1",
        "colab_type": "code",
        "colab": {}
      },
      "source": [
        "from tqdm import tqdm\n",
        "\n",
        "# Loss train & test\n",
        "train_losses = []\n",
        "test_losses = []\n",
        "\n",
        "# Accuracy train & test\n",
        "train_acc = []\n",
        "test_acc = []\n",
        "\n",
        "# Total Loss & Accuracy\n",
        "total_losses = []\n",
        "total_accuracies = []\n",
        "\n",
        "from S6.S6_train_test_function import train\n",
        "from S6.S6_train_test_function import test   \n"
      ],
      "execution_count": 34,
      "outputs": []
    },
    {
      "cell_type": "markdown",
      "metadata": {
        "id": "LisKLRn-OSaO",
        "colab_type": "text"
      },
      "source": [
        "Create a function to *initiate_training* for all conditions"
      ]
    },
    {
      "cell_type": "code",
      "metadata": {
        "id": "QgDmlexZOTZy",
        "colab_type": "code",
        "colab": {}
      },
      "source": [
        "from torch.optim.lr_scheduler import StepLR\n",
        "from S6.S6_init_training import init_training   "
      ],
      "execution_count": 35,
      "outputs": []
    },
    {
      "cell_type": "markdown",
      "metadata": {
        "id": "fkAa1D3csHO2",
        "colab_type": "text"
      },
      "source": [
        "## Run: Initialization and trainings"
      ]
    },
    {
      "cell_type": "markdown",
      "metadata": {
        "id": "Sc39elzDeJHj",
        "colab_type": "text"
      },
      "source": [
        "Create the model with normal BatchNormalization"
      ]
    },
    {
      "cell_type": "code",
      "metadata": {
        "id": "fzffz2YOd9oi",
        "colab_type": "code",
        "colab": {
          "base_uri": "https://localhost:8080/",
          "height": 612
        },
        "outputId": "94dd341b-f1b4-4546-cc8a-a3af7803d837"
      },
      "source": [
        "model = create_model(device,gbatnor=False)\n",
        "model_name_bn = \"EVA5:Submission-Session_6_Model-BatchNormalization.pt\"\n",
        "save_path_bn = F\"/content/gdrive/My Drive/Colab Notebooks/EVA5/{model_name_bn}\"\n",
        "torch.save(model.state_dict(), save_path_bn)\n",
        "print(\"Model Saved: {}\".format(model_name_bn))\n",
        "\n",
        "# Set the Epoch\n",
        "EPOCHS = 25\n"
      ],
      "execution_count": 36,
      "outputs": [
        {
          "output_type": "stream",
          "text": [
            "Create the instance of the Net class with GBN = False\n",
            "----------------------------------------------------------------\n",
            "        Layer (type)               Output Shape         Param #\n",
            "================================================================\n",
            "            Conv2d-1            [-1, 8, 26, 26]              72\n",
            "              ReLU-2            [-1, 8, 26, 26]               0\n",
            "       BatchNorm2d-3            [-1, 8, 26, 26]              16\n",
            "            Conv2d-4           [-1, 16, 24, 24]           1,152\n",
            "              ReLU-5           [-1, 16, 24, 24]               0\n",
            "       BatchNorm2d-6           [-1, 16, 24, 24]              32\n",
            "         MaxPool2d-7           [-1, 16, 12, 12]               0\n",
            "            Conv2d-8            [-1, 8, 12, 12]             128\n",
            "              ReLU-9            [-1, 8, 12, 12]               0\n",
            "      BatchNorm2d-10            [-1, 8, 12, 12]              16\n",
            "           Conv2d-11           [-1, 16, 10, 10]           1,152\n",
            "             ReLU-12           [-1, 16, 10, 10]               0\n",
            "      BatchNorm2d-13           [-1, 16, 10, 10]              32\n",
            "           Conv2d-14             [-1, 32, 8, 8]           4,608\n",
            "             ReLU-15             [-1, 32, 8, 8]               0\n",
            "      BatchNorm2d-16             [-1, 32, 8, 8]              64\n",
            "           Conv2d-17             [-1, 10, 8, 8]             320\n",
            "             ReLU-18             [-1, 10, 8, 8]               0\n",
            "      BatchNorm2d-19             [-1, 10, 8, 8]              20\n",
            "        AvgPool2d-20             [-1, 10, 1, 1]               0\n",
            "================================================================\n",
            "Total params: 7,612\n",
            "Trainable params: 7,612\n",
            "Non-trainable params: 0\n",
            "----------------------------------------------------------------\n",
            "Input size (MB): 0.00\n",
            "Forward/backward pass size (MB): 0.48\n",
            "Params size (MB): 0.03\n",
            "Estimated Total Size (MB): 0.51\n",
            "----------------------------------------------------------------\n",
            "Model Saved: EVA5:Submission-Session_6_Model-BatchNormalization.pt\n"
          ],
          "name": "stdout"
        }
      ]
    },
    {
      "cell_type": "markdown",
      "metadata": {
        "id": "lei6fCbPtV1J",
        "colab_type": "text"
      },
      "source": [
        "1. with L1 + BN\n"
      ]
    },
    {
      "cell_type": "code",
      "metadata": {
        "id": "j-wKbBqWsH69",
        "colab_type": "code",
        "colab": {
          "base_uri": "https://localhost:8080/",
          "height": 190
        },
        "outputId": "42f22d67-a1f6-42bd-d16e-aa5c31b98ef3"
      },
      "source": [
        "train_loader, test_loader = init_train_test_loader()\n",
        "\n",
        "# with L1 and BN\n",
        "test_losses = []\n",
        "test_acc = []\n",
        "train_losses,train_acc,test_losses,test_acc=init_training(model, device, train_loader, EPOCHS, False, 1e-5, False)\n",
        "\n",
        "total_losses.extend([test_losses])\n",
        "\n",
        "\n",
        "\n",
        "\n",
        "total_accuracies.extend([test_acc])\n",
        "print(test_losses,test_acc)\n",
        "\n"
      ],
      "execution_count": 40,
      "outputs": [
        {
          "output_type": "stream",
          "text": [
            "Loss=2.2621045112609863 Batch_id=0 Accuracy=8.59:   0%|          | 0/469 [00:00<?, ?it/s]"
          ],
          "name": "stderr"
        },
        {
          "output_type": "stream",
          "text": [
            "\n",
            " Initialize train and test loader with Batch Size:128\n",
            "\n",
            " Epoch 1, lr 0.01\n"
          ],
          "name": "stdout"
        },
        {
          "output_type": "stream",
          "text": [
            "\n"
          ],
          "name": "stderr"
        },
        {
          "output_type": "stream",
          "text": [
            "\n",
            "Test set: Average loss: 2.3041, Accuracy: 1135/10000 (11.35%)\n",
            "\n",
            "[[2.302591255187988, 2.3025746597290038, 2.3026596923828127, 2.302801675415039, 2.3030820613861085, 2.3027950775146486, 2.3030835990905763, 2.3035001945495606, 2.304113479232788]] [[10.1, 10.1, 10.1, 10.1, 10.1, 11.35, 11.35, 11.35, 11.35]]\n"
          ],
          "name": "stdout"
        }
      ]
    },
    {
      "cell_type": "markdown",
      "metadata": {
        "id": "IRKkFm9Ie-IM",
        "colab_type": "text"
      },
      "source": [
        "2. with L2 + BN\n"
      ]
    },
    {
      "cell_type": "code",
      "metadata": {
        "id": "5WyjgXUsfOGc",
        "colab_type": "code",
        "colab": {
          "base_uri": "https://localhost:8080/",
          "height": 1000
        },
        "outputId": "475499ea-684c-43b1-e084-2ef518df28c4"
      },
      "source": [
        "# with L2 and BN\n",
        "init_training(model, device, train_loader, EPOCHS, False, None, True)\n",
        "\n",
        "total_losses.extend([test_losses])\n",
        "test_losses = []\n",
        "\n",
        "total_accuracies.extend([test_acc])\n",
        "test_acc = []"
      ],
      "execution_count": null,
      "outputs": [
        {
          "output_type": "stream",
          "text": [
            "Loss=0.040658291429281235 Batch_id=468 Accuracy=99.04: 100%|██████████| 469/469 [00:59<00:00,  7.94it/s]\n"
          ],
          "name": "stderr"
        },
        {
          "output_type": "stream",
          "text": [
            "\n",
            " Epoch 0, lr 0.01\n"
          ],
          "name": "stdout"
        },
        {
          "output_type": "stream",
          "text": [
            "Loss=0.05666148290038109 Batch_id=0 Accuracy=97.66:   0%|          | 1/469 [00:00<00:57,  8.11it/s]"
          ],
          "name": "stderr"
        },
        {
          "output_type": "stream",
          "text": [
            "\n",
            "Test set: Average loss: 0.0260, Accuracy: 9933/10000 (99.33%)\n",
            "\n"
          ],
          "name": "stdout"
        },
        {
          "output_type": "stream",
          "text": [
            "Loss=0.05636999383568764 Batch_id=468 Accuracy=99.03: 100%|██████████| 469/469 [00:59<00:00,  7.88it/s]\n"
          ],
          "name": "stderr"
        },
        {
          "output_type": "stream",
          "text": [
            "\n",
            " Epoch 1, lr 0.01\n"
          ],
          "name": "stdout"
        },
        {
          "output_type": "stream",
          "text": [
            "Loss=0.03984266147017479 Batch_id=0 Accuracy=98.44:   0%|          | 1/469 [00:00<01:00,  7.70it/s]"
          ],
          "name": "stderr"
        },
        {
          "output_type": "stream",
          "text": [
            "\n",
            "Test set: Average loss: 0.0273, Accuracy: 9922/10000 (99.22%)\n",
            "\n"
          ],
          "name": "stdout"
        },
        {
          "output_type": "stream",
          "text": [
            "Loss=0.019734414294362068 Batch_id=468 Accuracy=99.00: 100%|██████████| 469/469 [00:59<00:00,  7.90it/s]\n"
          ],
          "name": "stderr"
        },
        {
          "output_type": "stream",
          "text": [
            "\n",
            " Epoch 2, lr 0.01\n"
          ],
          "name": "stdout"
        },
        {
          "output_type": "stream",
          "text": [
            "Loss=0.02317867986857891 Batch_id=0 Accuracy=100.00:   0%|          | 1/469 [00:00<01:00,  7.80it/s]"
          ],
          "name": "stderr"
        },
        {
          "output_type": "stream",
          "text": [
            "\n",
            "Test set: Average loss: 0.0260, Accuracy: 9932/10000 (99.32%)\n",
            "\n"
          ],
          "name": "stdout"
        },
        {
          "output_type": "stream",
          "text": [
            "Loss=0.024960778653621674 Batch_id=468 Accuracy=99.08: 100%|██████████| 469/469 [00:58<00:00,  7.97it/s]\n"
          ],
          "name": "stderr"
        },
        {
          "output_type": "stream",
          "text": [
            "\n",
            " Epoch 3, lr 0.01\n"
          ],
          "name": "stdout"
        },
        {
          "output_type": "stream",
          "text": [
            "Loss=0.028146887198090553 Batch_id=0 Accuracy=99.22:   0%|          | 1/469 [00:00<00:59,  7.80it/s]"
          ],
          "name": "stderr"
        },
        {
          "output_type": "stream",
          "text": [
            "\n",
            "Test set: Average loss: 0.0279, Accuracy: 9920/10000 (99.20%)\n",
            "\n"
          ],
          "name": "stdout"
        },
        {
          "output_type": "stream",
          "text": [
            "Loss=0.098335862159729 Batch_id=468 Accuracy=99.11: 100%|██████████| 469/469 [00:59<00:00,  7.93it/s]\n"
          ],
          "name": "stderr"
        },
        {
          "output_type": "stream",
          "text": [
            "\n",
            " Epoch 4, lr 0.01\n"
          ],
          "name": "stdout"
        },
        {
          "output_type": "stream",
          "text": [
            "Loss=0.029547877609729767 Batch_id=0 Accuracy=100.00:   0%|          | 1/469 [00:00<00:58,  8.03it/s]"
          ],
          "name": "stderr"
        },
        {
          "output_type": "stream",
          "text": [
            "\n",
            "Test set: Average loss: 0.0271, Accuracy: 9929/10000 (99.29%)\n",
            "\n"
          ],
          "name": "stdout"
        },
        {
          "output_type": "stream",
          "text": [
            "Loss=0.020964620634913445 Batch_id=468 Accuracy=99.12: 100%|██████████| 469/469 [00:59<00:00,  7.88it/s]\n"
          ],
          "name": "stderr"
        },
        {
          "output_type": "stream",
          "text": [
            "\n",
            " Epoch 5, lr 0.01\n"
          ],
          "name": "stdout"
        },
        {
          "output_type": "stream",
          "text": [
            "Loss=0.004954800475388765 Batch_id=0 Accuracy=100.00:   0%|          | 1/469 [00:00<01:04,  7.20it/s]"
          ],
          "name": "stderr"
        },
        {
          "output_type": "stream",
          "text": [
            "\n",
            "Test set: Average loss: 0.0262, Accuracy: 9928/10000 (99.28%)\n",
            "\n"
          ],
          "name": "stdout"
        },
        {
          "output_type": "stream",
          "text": [
            "Loss=0.056779902428388596 Batch_id=468 Accuracy=99.03: 100%|██████████| 469/469 [00:59<00:00,  7.87it/s]\n"
          ],
          "name": "stderr"
        },
        {
          "output_type": "stream",
          "text": [
            "\n",
            " Epoch 6, lr 0.01\n"
          ],
          "name": "stdout"
        },
        {
          "output_type": "stream",
          "text": [
            "Loss=0.028801145032048225 Batch_id=0 Accuracy=99.22:   0%|          | 1/469 [00:00<00:57,  8.16it/s]"
          ],
          "name": "stderr"
        },
        {
          "output_type": "stream",
          "text": [
            "\n",
            "Test set: Average loss: 0.0244, Accuracy: 9934/10000 (99.34%)\n",
            "\n"
          ],
          "name": "stdout"
        },
        {
          "output_type": "stream",
          "text": [
            "Loss=0.04950197413563728 Batch_id=468 Accuracy=99.14: 100%|██████████| 469/469 [00:59<00:00,  7.88it/s]\n"
          ],
          "name": "stderr"
        },
        {
          "output_type": "stream",
          "text": [
            "\n",
            " Epoch 7, lr 0.01\n"
          ],
          "name": "stdout"
        },
        {
          "output_type": "stream",
          "text": [
            "Loss=0.08011111617088318 Batch_id=0 Accuracy=97.66:   0%|          | 1/469 [00:00<00:58,  7.99it/s]"
          ],
          "name": "stderr"
        },
        {
          "output_type": "stream",
          "text": [
            "\n",
            "Test set: Average loss: 0.0230, Accuracy: 9945/10000 (99.45%)\n",
            "\n"
          ],
          "name": "stdout"
        },
        {
          "output_type": "stream",
          "text": [
            "Loss=0.006559150759130716 Batch_id=468 Accuracy=99.08: 100%|██████████| 469/469 [00:59<00:00,  7.94it/s]\n"
          ],
          "name": "stderr"
        },
        {
          "output_type": "stream",
          "text": [
            "\n",
            " Epoch 8, lr 0.01\n"
          ],
          "name": "stdout"
        },
        {
          "output_type": "stream",
          "text": [
            "Loss=0.010486560873687267 Batch_id=0 Accuracy=100.00:   0%|          | 1/469 [00:00<00:58,  7.96it/s]"
          ],
          "name": "stderr"
        },
        {
          "output_type": "stream",
          "text": [
            "\n",
            "Test set: Average loss: 0.0231, Accuracy: 9934/10000 (99.34%)\n",
            "\n"
          ],
          "name": "stdout"
        },
        {
          "output_type": "stream",
          "text": [
            "Loss=0.020252937451004982 Batch_id=468 Accuracy=99.13: 100%|██████████| 469/469 [00:59<00:00,  7.93it/s]\n"
          ],
          "name": "stderr"
        },
        {
          "output_type": "stream",
          "text": [
            "\n",
            " Epoch 9, lr 0.01\n"
          ],
          "name": "stdout"
        },
        {
          "output_type": "stream",
          "text": [
            "Loss=0.026345428079366684 Batch_id=0 Accuracy=99.22:   0%|          | 1/469 [00:00<01:00,  7.80it/s]"
          ],
          "name": "stderr"
        },
        {
          "output_type": "stream",
          "text": [
            "\n",
            "Test set: Average loss: 0.0242, Accuracy: 9934/10000 (99.34%)\n",
            "\n"
          ],
          "name": "stdout"
        },
        {
          "output_type": "stream",
          "text": [
            "Loss=0.0120016448199749 Batch_id=468 Accuracy=99.14: 100%|██████████| 469/469 [00:59<00:00,  7.87it/s]\n"
          ],
          "name": "stderr"
        },
        {
          "output_type": "stream",
          "text": [
            "\n",
            " Epoch 10, lr 0.01\n"
          ],
          "name": "stdout"
        },
        {
          "output_type": "stream",
          "text": [
            "Loss=0.04213114082813263 Batch_id=0 Accuracy=97.66:   0%|          | 1/469 [00:00<00:58,  8.05it/s]"
          ],
          "name": "stderr"
        },
        {
          "output_type": "stream",
          "text": [
            "\n",
            "Test set: Average loss: 0.0232, Accuracy: 9937/10000 (99.37%)\n",
            "\n"
          ],
          "name": "stdout"
        },
        {
          "output_type": "stream",
          "text": [
            "Loss=0.029479624703526497 Batch_id=468 Accuracy=99.21: 100%|██████████| 469/469 [00:59<00:00,  7.83it/s]\n"
          ],
          "name": "stderr"
        },
        {
          "output_type": "stream",
          "text": [
            "\n",
            " Epoch 11, lr 0.01\n"
          ],
          "name": "stdout"
        },
        {
          "output_type": "stream",
          "text": [
            "Loss=0.006022406741976738 Batch_id=0 Accuracy=100.00:   0%|          | 1/469 [00:00<00:57,  8.16it/s]"
          ],
          "name": "stderr"
        },
        {
          "output_type": "stream",
          "text": [
            "\n",
            "Test set: Average loss: 0.0230, Accuracy: 9939/10000 (99.39%)\n",
            "\n"
          ],
          "name": "stdout"
        },
        {
          "output_type": "stream",
          "text": [
            "Loss=0.03107680194079876 Batch_id=468 Accuracy=99.15: 100%|██████████| 469/469 [01:00<00:00,  7.81it/s]\n"
          ],
          "name": "stderr"
        },
        {
          "output_type": "stream",
          "text": [
            "\n",
            " Epoch 12, lr 0.01\n"
          ],
          "name": "stdout"
        },
        {
          "output_type": "stream",
          "text": [
            "Loss=0.04613829404115677 Batch_id=0 Accuracy=98.44:   0%|          | 1/469 [00:00<00:57,  8.10it/s]"
          ],
          "name": "stderr"
        },
        {
          "output_type": "stream",
          "text": [
            "\n",
            "Test set: Average loss: 0.0240, Accuracy: 9940/10000 (99.40%)\n",
            "\n"
          ],
          "name": "stdout"
        },
        {
          "output_type": "stream",
          "text": [
            "Loss=0.04854699969291687 Batch_id=468 Accuracy=99.12: 100%|██████████| 469/469 [01:00<00:00,  7.74it/s]\n"
          ],
          "name": "stderr"
        },
        {
          "output_type": "stream",
          "text": [
            "\n",
            " Epoch 13, lr 0.01\n"
          ],
          "name": "stdout"
        },
        {
          "output_type": "stream",
          "text": [
            "Loss=0.04859698563814163 Batch_id=0 Accuracy=98.44:   0%|          | 1/469 [00:00<01:00,  7.80it/s]"
          ],
          "name": "stderr"
        },
        {
          "output_type": "stream",
          "text": [
            "\n",
            "Test set: Average loss: 0.0220, Accuracy: 9940/10000 (99.40%)\n",
            "\n"
          ],
          "name": "stdout"
        },
        {
          "output_type": "stream",
          "text": [
            "Loss=0.05486845597624779 Batch_id=468 Accuracy=99.20: 100%|██████████| 469/469 [01:01<00:00,  7.57it/s]\n"
          ],
          "name": "stderr"
        },
        {
          "output_type": "stream",
          "text": [
            "\n",
            " Epoch 14, lr 0.01\n"
          ],
          "name": "stdout"
        },
        {
          "output_type": "stream",
          "text": [
            "Loss=0.04379371181130409 Batch_id=0 Accuracy=97.66:   0%|          | 1/469 [00:00<01:02,  7.44it/s]"
          ],
          "name": "stderr"
        },
        {
          "output_type": "stream",
          "text": [
            "\n",
            "Test set: Average loss: 0.0226, Accuracy: 9935/10000 (99.35%)\n",
            "\n"
          ],
          "name": "stdout"
        },
        {
          "output_type": "stream",
          "text": [
            "Loss=0.02937142364680767 Batch_id=468 Accuracy=99.11: 100%|██████████| 469/469 [01:02<00:00,  7.51it/s]\n"
          ],
          "name": "stderr"
        },
        {
          "output_type": "stream",
          "text": [
            "\n",
            " Epoch 15, lr 0.01\n"
          ],
          "name": "stdout"
        },
        {
          "output_type": "stream",
          "text": [
            "Loss=0.03193943202495575 Batch_id=0 Accuracy=100.00:   0%|          | 1/469 [00:00<01:01,  7.61it/s]"
          ],
          "name": "stderr"
        },
        {
          "output_type": "stream",
          "text": [
            "\n",
            "Test set: Average loss: 0.0248, Accuracy: 9930/10000 (99.30%)\n",
            "\n"
          ],
          "name": "stdout"
        },
        {
          "output_type": "stream",
          "text": [
            "Loss=0.09434094280004501 Batch_id=468 Accuracy=99.18: 100%|██████████| 469/469 [01:01<00:00,  7.59it/s]\n"
          ],
          "name": "stderr"
        },
        {
          "output_type": "stream",
          "text": [
            "\n",
            " Epoch 16, lr 0.01\n"
          ],
          "name": "stdout"
        },
        {
          "output_type": "stream",
          "text": [
            "Loss=0.020343486219644547 Batch_id=0 Accuracy=99.22:   0%|          | 1/469 [00:00<00:59,  7.81it/s]"
          ],
          "name": "stderr"
        },
        {
          "output_type": "stream",
          "text": [
            "\n",
            "Test set: Average loss: 0.0254, Accuracy: 9929/10000 (99.29%)\n",
            "\n"
          ],
          "name": "stdout"
        },
        {
          "output_type": "stream",
          "text": [
            "Loss=0.031502846628427505 Batch_id=468 Accuracy=99.23: 100%|██████████| 469/469 [01:02<00:00,  7.49it/s]\n"
          ],
          "name": "stderr"
        },
        {
          "output_type": "stream",
          "text": [
            "\n",
            " Epoch 17, lr 0.01\n"
          ],
          "name": "stdout"
        },
        {
          "output_type": "stream",
          "text": [
            "Loss=0.050973713397979736 Batch_id=0 Accuracy=98.44:   0%|          | 1/469 [00:00<01:00,  7.80it/s]"
          ],
          "name": "stderr"
        },
        {
          "output_type": "stream",
          "text": [
            "\n",
            "Test set: Average loss: 0.0218, Accuracy: 9935/10000 (99.35%)\n",
            "\n"
          ],
          "name": "stdout"
        },
        {
          "output_type": "stream",
          "text": [
            "Loss=0.01245348434895277 Batch_id=468 Accuracy=99.19: 100%|██████████| 469/469 [01:01<00:00,  7.64it/s]\n"
          ],
          "name": "stderr"
        },
        {
          "output_type": "stream",
          "text": [
            "\n",
            " Epoch 18, lr 0.01\n"
          ],
          "name": "stdout"
        },
        {
          "output_type": "stream",
          "text": [
            "Loss=0.018817689269781113 Batch_id=0 Accuracy=100.00:   0%|          | 1/469 [00:00<00:58,  8.01it/s]"
          ],
          "name": "stderr"
        },
        {
          "output_type": "stream",
          "text": [
            "\n",
            "Test set: Average loss: 0.0220, Accuracy: 9943/10000 (99.43%)\n",
            "\n"
          ],
          "name": "stdout"
        },
        {
          "output_type": "stream",
          "text": [
            "Loss=0.05300738289952278 Batch_id=468 Accuracy=99.26: 100%|██████████| 469/469 [01:01<00:00,  7.68it/s]\n"
          ],
          "name": "stderr"
        },
        {
          "output_type": "stream",
          "text": [
            "\n",
            " Epoch 19, lr 0.01\n"
          ],
          "name": "stdout"
        },
        {
          "output_type": "stream",
          "text": [
            "Loss=0.05665907263755798 Batch_id=0 Accuracy=99.22:   0%|          | 1/469 [00:00<01:01,  7.60it/s]"
          ],
          "name": "stderr"
        },
        {
          "output_type": "stream",
          "text": [
            "\n",
            "Test set: Average loss: 0.0228, Accuracy: 9932/10000 (99.32%)\n",
            "\n"
          ],
          "name": "stdout"
        },
        {
          "output_type": "stream",
          "text": [
            "Loss=0.07471834868192673 Batch_id=468 Accuracy=99.21: 100%|██████████| 469/469 [01:01<00:00,  7.65it/s]\n"
          ],
          "name": "stderr"
        },
        {
          "output_type": "stream",
          "text": [
            "\n",
            " Epoch 20, lr 0.01\n"
          ],
          "name": "stdout"
        },
        {
          "output_type": "stream",
          "text": [
            "Loss=0.04792611300945282 Batch_id=0 Accuracy=97.66:   0%|          | 1/469 [00:00<00:59,  7.88it/s]"
          ],
          "name": "stderr"
        },
        {
          "output_type": "stream",
          "text": [
            "\n",
            "Test set: Average loss: 0.0232, Accuracy: 9938/10000 (99.38%)\n",
            "\n"
          ],
          "name": "stdout"
        },
        {
          "output_type": "stream",
          "text": [
            "Loss=0.04556789621710777 Batch_id=468 Accuracy=99.17: 100%|██████████| 469/469 [01:01<00:00,  7.62it/s]\n"
          ],
          "name": "stderr"
        },
        {
          "output_type": "stream",
          "text": [
            "\n",
            " Epoch 21, lr 0.01\n"
          ],
          "name": "stdout"
        },
        {
          "output_type": "stream",
          "text": [
            "Loss=0.01071576401591301 Batch_id=0 Accuracy=100.00:   0%|          | 1/469 [00:00<01:05,  7.12it/s]"
          ],
          "name": "stderr"
        },
        {
          "output_type": "stream",
          "text": [
            "\n",
            "Test set: Average loss: 0.0232, Accuracy: 9937/10000 (99.37%)\n",
            "\n"
          ],
          "name": "stdout"
        },
        {
          "output_type": "stream",
          "text": [
            "Loss=0.02334938384592533 Batch_id=468 Accuracy=99.17: 100%|██████████| 469/469 [01:02<00:00,  7.48it/s]\n"
          ],
          "name": "stderr"
        },
        {
          "output_type": "stream",
          "text": [
            "\n",
            " Epoch 22, lr 0.01\n"
          ],
          "name": "stdout"
        },
        {
          "output_type": "stream",
          "text": [
            "Loss=0.030906517058610916 Batch_id=0 Accuracy=99.22:   0%|          | 1/469 [00:00<01:03,  7.32it/s]"
          ],
          "name": "stderr"
        },
        {
          "output_type": "stream",
          "text": [
            "\n",
            "Test set: Average loss: 0.0228, Accuracy: 9934/10000 (99.34%)\n",
            "\n"
          ],
          "name": "stdout"
        },
        {
          "output_type": "stream",
          "text": [
            "Loss=0.026774534955620766 Batch_id=468 Accuracy=99.31: 100%|██████████| 469/469 [01:02<00:00,  7.54it/s]\n"
          ],
          "name": "stderr"
        },
        {
          "output_type": "stream",
          "text": [
            "\n",
            " Epoch 23, lr 0.01\n"
          ],
          "name": "stdout"
        },
        {
          "output_type": "stream",
          "text": [
            "Loss=0.025897925719618797 Batch_id=0 Accuracy=100.00:   0%|          | 1/469 [00:00<01:00,  7.72it/s]"
          ],
          "name": "stderr"
        },
        {
          "output_type": "stream",
          "text": [
            "\n",
            "Test set: Average loss: 0.0215, Accuracy: 9936/10000 (99.36%)\n",
            "\n"
          ],
          "name": "stdout"
        },
        {
          "output_type": "stream",
          "text": [
            "Loss=0.013348064385354519 Batch_id=468 Accuracy=99.24: 100%|██████████| 469/469 [01:01<00:00,  7.57it/s]\n"
          ],
          "name": "stderr"
        },
        {
          "output_type": "stream",
          "text": [
            "\n",
            " Epoch 24, lr 0.01\n",
            "\n",
            "Test set: Average loss: 0.0211, Accuracy: 9935/10000 (99.35%)\n",
            "\n"
          ],
          "name": "stdout"
        }
      ]
    },
    {
      "cell_type": "markdown",
      "metadata": {
        "id": "1NtUmV5QfDHk",
        "colab_type": "text"
      },
      "source": [
        "3. with L1 and L2 with BN\n"
      ]
    },
    {
      "cell_type": "code",
      "metadata": {
        "id": "CUh9bKuSf1sj",
        "colab_type": "code",
        "colab": {
          "base_uri": "https://localhost:8080/",
          "height": 1000
        },
        "outputId": "2132693e-507f-48d9-b276-e00ed29093f0"
      },
      "source": [
        "# with L1, L2 and BN\n",
        "init_training(model, device, train_loader, EPOCHS, True, 1e-5, True)\n",
        "\n",
        "total_losses.extend([test_losses])\n",
        "test_losses = []\n",
        "\n",
        "total_accuracies.extend([test_acc])\n",
        "test_acc = []"
      ],
      "execution_count": null,
      "outputs": [
        {
          "output_type": "stream",
          "text": [
            "Loss=0.027782879769802094 Batch_id=468 Accuracy=99.22: 100%|██████████| 469/469 [01:02<00:00,  7.45it/s]\n"
          ],
          "name": "stderr"
        },
        {
          "output_type": "stream",
          "text": [
            "\n",
            " Epoch 0, lr 0.01\n"
          ],
          "name": "stdout"
        },
        {
          "output_type": "stream",
          "text": [
            "Loss=0.01547170989215374 Batch_id=0 Accuracy=100.00:   0%|          | 1/469 [00:00<01:01,  7.59it/s]"
          ],
          "name": "stderr"
        },
        {
          "output_type": "stream",
          "text": [
            "\n",
            "Test set: Average loss: 0.0223, Accuracy: 9938/10000 (99.38%)\n",
            "\n"
          ],
          "name": "stdout"
        },
        {
          "output_type": "stream",
          "text": [
            "Loss=0.035238783806562424 Batch_id=468 Accuracy=99.24: 100%|██████████| 469/469 [01:02<00:00,  7.53it/s]\n"
          ],
          "name": "stderr"
        },
        {
          "output_type": "stream",
          "text": [
            "\n",
            " Epoch 1, lr 0.01\n"
          ],
          "name": "stdout"
        },
        {
          "output_type": "stream",
          "text": [
            "Loss=0.04833422601222992 Batch_id=0 Accuracy=99.22:   0%|          | 1/469 [00:00<00:59,  7.84it/s]"
          ],
          "name": "stderr"
        },
        {
          "output_type": "stream",
          "text": [
            "\n",
            "Test set: Average loss: 0.0207, Accuracy: 9945/10000 (99.45%)\n",
            "\n"
          ],
          "name": "stdout"
        },
        {
          "output_type": "stream",
          "text": [
            "Loss=0.029825687408447266 Batch_id=468 Accuracy=99.27: 100%|██████████| 469/469 [01:02<00:00,  7.46it/s]\n"
          ],
          "name": "stderr"
        },
        {
          "output_type": "stream",
          "text": [
            "\n",
            " Epoch 2, lr 0.01\n"
          ],
          "name": "stdout"
        },
        {
          "output_type": "stream",
          "text": [
            "Loss=0.034125082194805145 Batch_id=0 Accuracy=99.22:   0%|          | 1/469 [00:00<01:03,  7.41it/s]"
          ],
          "name": "stderr"
        },
        {
          "output_type": "stream",
          "text": [
            "\n",
            "Test set: Average loss: 0.0229, Accuracy: 9923/10000 (99.23%)\n",
            "\n"
          ],
          "name": "stdout"
        },
        {
          "output_type": "stream",
          "text": [
            "Loss=0.03861290588974953 Batch_id=468 Accuracy=99.25: 100%|██████████| 469/469 [01:02<00:00,  7.51it/s]\n"
          ],
          "name": "stderr"
        },
        {
          "output_type": "stream",
          "text": [
            "\n",
            " Epoch 3, lr 0.01\n"
          ],
          "name": "stdout"
        },
        {
          "output_type": "stream",
          "text": [
            "Loss=0.022198449820280075 Batch_id=0 Accuracy=100.00:   0%|          | 1/469 [00:00<01:03,  7.40it/s]"
          ],
          "name": "stderr"
        },
        {
          "output_type": "stream",
          "text": [
            "\n",
            "Test set: Average loss: 0.0214, Accuracy: 9938/10000 (99.38%)\n",
            "\n"
          ],
          "name": "stdout"
        },
        {
          "output_type": "stream",
          "text": [
            "Loss=0.033669404685497284 Batch_id=468 Accuracy=99.25: 100%|██████████| 469/469 [01:02<00:00,  7.49it/s]\n"
          ],
          "name": "stderr"
        },
        {
          "output_type": "stream",
          "text": [
            "\n",
            " Epoch 4, lr 0.001\n"
          ],
          "name": "stdout"
        },
        {
          "output_type": "stream",
          "text": [
            "Loss=0.018934395164251328 Batch_id=0 Accuracy=100.00:   0%|          | 1/469 [00:00<00:59,  7.81it/s]"
          ],
          "name": "stderr"
        },
        {
          "output_type": "stream",
          "text": [
            "\n",
            "Test set: Average loss: 0.0197, Accuracy: 9945/10000 (99.45%)\n",
            "\n"
          ],
          "name": "stdout"
        },
        {
          "output_type": "stream",
          "text": [
            "Loss=0.031307220458984375 Batch_id=468 Accuracy=99.36: 100%|██████████| 469/469 [01:02<00:00,  7.50it/s]\n"
          ],
          "name": "stderr"
        },
        {
          "output_type": "stream",
          "text": [
            "\n",
            " Epoch 5, lr 0.001\n"
          ],
          "name": "stdout"
        },
        {
          "output_type": "stream",
          "text": [
            "Loss=0.014278053306043148 Batch_id=0 Accuracy=100.00:   0%|          | 1/469 [00:00<01:00,  7.68it/s]"
          ],
          "name": "stderr"
        },
        {
          "output_type": "stream",
          "text": [
            "\n",
            "Test set: Average loss: 0.0179, Accuracy: 9951/10000 (99.51%)\n",
            "\n"
          ],
          "name": "stdout"
        },
        {
          "output_type": "stream",
          "text": [
            "Loss=0.03280933201313019 Batch_id=468 Accuracy=99.40: 100%|██████████| 469/469 [01:02<00:00,  7.47it/s]\n"
          ],
          "name": "stderr"
        },
        {
          "output_type": "stream",
          "text": [
            "\n",
            " Epoch 6, lr 0.001\n"
          ],
          "name": "stdout"
        },
        {
          "output_type": "stream",
          "text": [
            "Loss=0.027145173400640488 Batch_id=0 Accuracy=99.22:   0%|          | 1/469 [00:00<01:00,  7.68it/s]"
          ],
          "name": "stderr"
        },
        {
          "output_type": "stream",
          "text": [
            "\n",
            "Test set: Average loss: 0.0176, Accuracy: 9950/10000 (99.50%)\n",
            "\n"
          ],
          "name": "stdout"
        },
        {
          "output_type": "stream",
          "text": [
            "Loss=0.033936165273189545 Batch_id=468 Accuracy=99.44: 100%|██████████| 469/469 [01:02<00:00,  7.52it/s]\n"
          ],
          "name": "stderr"
        },
        {
          "output_type": "stream",
          "text": [
            "\n",
            " Epoch 7, lr 0.001\n"
          ],
          "name": "stdout"
        },
        {
          "output_type": "stream",
          "text": [
            "Loss=0.030642002820968628 Batch_id=0 Accuracy=99.22:   0%|          | 1/469 [00:00<01:04,  7.22it/s]"
          ],
          "name": "stderr"
        },
        {
          "output_type": "stream",
          "text": [
            "\n",
            "Test set: Average loss: 0.0179, Accuracy: 9950/10000 (99.50%)\n",
            "\n"
          ],
          "name": "stdout"
        },
        {
          "output_type": "stream",
          "text": [
            "Loss=0.011336056515574455 Batch_id=468 Accuracy=99.43: 100%|██████████| 469/469 [01:02<00:00,  7.51it/s]\n"
          ],
          "name": "stderr"
        },
        {
          "output_type": "stream",
          "text": [
            "\n",
            " Epoch 8, lr 0.001\n"
          ],
          "name": "stdout"
        },
        {
          "output_type": "stream",
          "text": [
            "Loss=0.04192498326301575 Batch_id=0 Accuracy=98.44:   0%|          | 1/469 [00:00<01:03,  7.37it/s]"
          ],
          "name": "stderr"
        },
        {
          "output_type": "stream",
          "text": [
            "\n",
            "Test set: Average loss: 0.0179, Accuracy: 9951/10000 (99.51%)\n",
            "\n"
          ],
          "name": "stdout"
        },
        {
          "output_type": "stream",
          "text": [
            "Loss=0.02609669417142868 Batch_id=468 Accuracy=99.45: 100%|██████████| 469/469 [01:02<00:00,  7.49it/s]\n"
          ],
          "name": "stderr"
        },
        {
          "output_type": "stream",
          "text": [
            "\n",
            " Epoch 9, lr 0.0001\n"
          ],
          "name": "stdout"
        },
        {
          "output_type": "stream",
          "text": [
            "Loss=0.0303372573107481 Batch_id=0 Accuracy=99.22:   0%|          | 1/469 [00:00<01:00,  7.73it/s]"
          ],
          "name": "stderr"
        },
        {
          "output_type": "stream",
          "text": [
            "\n",
            "Test set: Average loss: 0.0179, Accuracy: 9950/10000 (99.50%)\n",
            "\n"
          ],
          "name": "stdout"
        },
        {
          "output_type": "stream",
          "text": [
            "Loss=0.019560091197490692 Batch_id=468 Accuracy=99.42: 100%|██████████| 469/469 [01:02<00:00,  7.48it/s]\n"
          ],
          "name": "stderr"
        },
        {
          "output_type": "stream",
          "text": [
            "\n",
            " Epoch 10, lr 0.0001\n"
          ],
          "name": "stdout"
        },
        {
          "output_type": "stream",
          "text": [
            "Loss=0.04165663197636604 Batch_id=0 Accuracy=99.22:   0%|          | 1/469 [00:00<01:00,  7.70it/s]"
          ],
          "name": "stderr"
        },
        {
          "output_type": "stream",
          "text": [
            "\n",
            "Test set: Average loss: 0.0175, Accuracy: 9950/10000 (99.50%)\n",
            "\n"
          ],
          "name": "stdout"
        },
        {
          "output_type": "stream",
          "text": [
            "Loss=0.031648747622966766 Batch_id=468 Accuracy=99.47: 100%|██████████| 469/469 [01:03<00:00,  7.42it/s]\n"
          ],
          "name": "stderr"
        },
        {
          "output_type": "stream",
          "text": [
            "\n",
            " Epoch 11, lr 0.0001\n"
          ],
          "name": "stdout"
        },
        {
          "output_type": "stream",
          "text": [
            "Loss=0.016584668308496475 Batch_id=0 Accuracy=100.00:   0%|          | 1/469 [00:00<01:04,  7.23it/s]"
          ],
          "name": "stderr"
        },
        {
          "output_type": "stream",
          "text": [
            "\n",
            "Test set: Average loss: 0.0178, Accuracy: 9951/10000 (99.51%)\n",
            "\n"
          ],
          "name": "stdout"
        },
        {
          "output_type": "stream",
          "text": [
            "Loss=0.034414347261190414 Batch_id=468 Accuracy=99.44: 100%|██████████| 469/469 [01:02<00:00,  7.47it/s]\n"
          ],
          "name": "stderr"
        },
        {
          "output_type": "stream",
          "text": [
            "\n",
            " Epoch 12, lr 0.0001\n"
          ],
          "name": "stdout"
        },
        {
          "output_type": "stream",
          "text": [
            "Loss=0.042249295860528946 Batch_id=0 Accuracy=99.22:   0%|          | 1/469 [00:00<01:00,  7.71it/s]"
          ],
          "name": "stderr"
        },
        {
          "output_type": "stream",
          "text": [
            "\n",
            "Test set: Average loss: 0.0176, Accuracy: 9951/10000 (99.51%)\n",
            "\n"
          ],
          "name": "stdout"
        },
        {
          "output_type": "stream",
          "text": [
            "Loss=0.05853375419974327 Batch_id=468 Accuracy=99.41: 100%|██████████| 469/469 [01:02<00:00,  7.49it/s]\n"
          ],
          "name": "stderr"
        },
        {
          "output_type": "stream",
          "text": [
            "\n",
            " Epoch 13, lr 0.0001\n"
          ],
          "name": "stdout"
        },
        {
          "output_type": "stream",
          "text": [
            "Loss=0.019418731331825256 Batch_id=0 Accuracy=100.00:   0%|          | 1/469 [00:00<01:03,  7.37it/s]"
          ],
          "name": "stderr"
        },
        {
          "output_type": "stream",
          "text": [
            "\n",
            "Test set: Average loss: 0.0175, Accuracy: 9953/10000 (99.53%)\n",
            "\n"
          ],
          "name": "stdout"
        },
        {
          "output_type": "stream",
          "text": [
            "Loss=0.05541583150625229 Batch_id=468 Accuracy=99.48: 100%|██████████| 469/469 [01:02<00:00,  7.48it/s]\n"
          ],
          "name": "stderr"
        },
        {
          "output_type": "stream",
          "text": [
            "\n",
            " Epoch 14, lr 1e-05\n"
          ],
          "name": "stdout"
        },
        {
          "output_type": "stream",
          "text": [
            "Loss=0.022782204672694206 Batch_id=0 Accuracy=100.00:   0%|          | 1/469 [00:00<01:04,  7.26it/s]"
          ],
          "name": "stderr"
        },
        {
          "output_type": "stream",
          "text": [
            "\n",
            "Test set: Average loss: 0.0175, Accuracy: 9952/10000 (99.52%)\n",
            "\n"
          ],
          "name": "stdout"
        },
        {
          "output_type": "stream",
          "text": [
            "Loss=0.015310678631067276 Batch_id=468 Accuracy=99.48: 100%|██████████| 469/469 [01:02<00:00,  7.45it/s]\n"
          ],
          "name": "stderr"
        },
        {
          "output_type": "stream",
          "text": [
            "\n",
            " Epoch 15, lr 1e-05\n"
          ],
          "name": "stdout"
        },
        {
          "output_type": "stream",
          "text": [
            "Loss=0.03615662455558777 Batch_id=0 Accuracy=99.22:   0%|          | 1/469 [00:00<01:03,  7.32it/s]"
          ],
          "name": "stderr"
        },
        {
          "output_type": "stream",
          "text": [
            "\n",
            "Test set: Average loss: 0.0178, Accuracy: 9951/10000 (99.51%)\n",
            "\n"
          ],
          "name": "stdout"
        },
        {
          "output_type": "stream",
          "text": [
            "Loss=0.019937504082918167 Batch_id=468 Accuracy=99.47: 100%|██████████| 469/469 [01:03<00:00,  7.39it/s]\n"
          ],
          "name": "stderr"
        },
        {
          "output_type": "stream",
          "text": [
            "\n",
            " Epoch 16, lr 1e-05\n"
          ],
          "name": "stdout"
        },
        {
          "output_type": "stream",
          "text": [
            "Loss=0.019417256116867065 Batch_id=0 Accuracy=100.00:   0%|          | 1/469 [00:00<01:02,  7.48it/s]"
          ],
          "name": "stderr"
        },
        {
          "output_type": "stream",
          "text": [
            "\n",
            "Test set: Average loss: 0.0176, Accuracy: 9948/10000 (99.48%)\n",
            "\n"
          ],
          "name": "stdout"
        },
        {
          "output_type": "stream",
          "text": [
            "Loss=0.04277203232049942 Batch_id=468 Accuracy=99.44: 100%|██████████| 469/469 [01:03<00:00,  7.43it/s]\n"
          ],
          "name": "stderr"
        },
        {
          "output_type": "stream",
          "text": [
            "\n",
            " Epoch 17, lr 1e-05\n"
          ],
          "name": "stdout"
        },
        {
          "output_type": "stream",
          "text": [
            "Loss=0.016285020858049393 Batch_id=0 Accuracy=100.00:   0%|          | 1/469 [00:00<01:00,  7.77it/s]"
          ],
          "name": "stderr"
        },
        {
          "output_type": "stream",
          "text": [
            "\n",
            "Test set: Average loss: 0.0173, Accuracy: 9955/10000 (99.55%)\n",
            "\n"
          ],
          "name": "stdout"
        },
        {
          "output_type": "stream",
          "text": [
            "Loss=0.023914232850074768 Batch_id=468 Accuracy=99.47: 100%|██████████| 469/469 [01:03<00:00,  7.40it/s]\n"
          ],
          "name": "stderr"
        },
        {
          "output_type": "stream",
          "text": [
            "\n",
            " Epoch 18, lr 1e-05\n"
          ],
          "name": "stdout"
        },
        {
          "output_type": "stream",
          "text": [
            "Loss=0.029394634068012238 Batch_id=0 Accuracy=99.22:   0%|          | 1/469 [00:00<01:01,  7.56it/s]"
          ],
          "name": "stderr"
        },
        {
          "output_type": "stream",
          "text": [
            "\n",
            "Test set: Average loss: 0.0178, Accuracy: 9948/10000 (99.48%)\n",
            "\n"
          ],
          "name": "stdout"
        },
        {
          "output_type": "stream",
          "text": [
            "Loss=0.01808067597448826 Batch_id=468 Accuracy=99.44: 100%|██████████| 469/469 [01:03<00:00,  7.43it/s]\n"
          ],
          "name": "stderr"
        },
        {
          "output_type": "stream",
          "text": [
            "\n",
            " Epoch 19, lr 1.0000000000000002e-06\n"
          ],
          "name": "stdout"
        },
        {
          "output_type": "stream",
          "text": [
            "Loss=0.026923134922981262 Batch_id=0 Accuracy=100.00:   0%|          | 1/469 [00:00<01:07,  6.95it/s]"
          ],
          "name": "stderr"
        },
        {
          "output_type": "stream",
          "text": [
            "\n",
            "Test set: Average loss: 0.0175, Accuracy: 9949/10000 (99.49%)\n",
            "\n"
          ],
          "name": "stdout"
        },
        {
          "output_type": "stream",
          "text": [
            "Loss=0.0192553848028183 Batch_id=468 Accuracy=99.50: 100%|██████████| 469/469 [01:03<00:00,  7.35it/s]\n"
          ],
          "name": "stderr"
        },
        {
          "output_type": "stream",
          "text": [
            "\n",
            " Epoch 20, lr 1.0000000000000002e-06\n"
          ],
          "name": "stdout"
        },
        {
          "output_type": "stream",
          "text": [
            "Loss=0.032547157257795334 Batch_id=0 Accuracy=99.22:   0%|          | 1/469 [00:00<01:08,  6.88it/s]"
          ],
          "name": "stderr"
        },
        {
          "output_type": "stream",
          "text": [
            "\n",
            "Test set: Average loss: 0.0177, Accuracy: 9949/10000 (99.49%)\n",
            "\n"
          ],
          "name": "stdout"
        },
        {
          "output_type": "stream",
          "text": [
            "Loss=0.023412451148033142 Batch_id=468 Accuracy=99.46: 100%|██████████| 469/469 [01:04<00:00,  7.32it/s]\n"
          ],
          "name": "stderr"
        },
        {
          "output_type": "stream",
          "text": [
            "\n",
            " Epoch 21, lr 1.0000000000000002e-06\n"
          ],
          "name": "stdout"
        },
        {
          "output_type": "stream",
          "text": [
            "Loss=0.03520871698856354 Batch_id=0 Accuracy=98.44:   0%|          | 1/469 [00:00<01:09,  6.70it/s]"
          ],
          "name": "stderr"
        },
        {
          "output_type": "stream",
          "text": [
            "\n",
            "Test set: Average loss: 0.0176, Accuracy: 9953/10000 (99.53%)\n",
            "\n"
          ],
          "name": "stdout"
        },
        {
          "output_type": "stream",
          "text": [
            "Loss=0.022992810234427452 Batch_id=468 Accuracy=99.46: 100%|██████████| 469/469 [01:03<00:00,  7.36it/s]\n"
          ],
          "name": "stderr"
        },
        {
          "output_type": "stream",
          "text": [
            "\n",
            " Epoch 22, lr 1.0000000000000002e-06\n"
          ],
          "name": "stdout"
        },
        {
          "output_type": "stream",
          "text": [
            "Loss=0.020059213042259216 Batch_id=0 Accuracy=99.22:   0%|          | 1/469 [00:00<01:02,  7.46it/s]"
          ],
          "name": "stderr"
        },
        {
          "output_type": "stream",
          "text": [
            "\n",
            "Test set: Average loss: 0.0176, Accuracy: 9952/10000 (99.52%)\n",
            "\n"
          ],
          "name": "stdout"
        },
        {
          "output_type": "stream",
          "text": [
            "Loss=0.01716664433479309 Batch_id=468 Accuracy=99.48: 100%|██████████| 469/469 [01:04<00:00,  7.32it/s]\n"
          ],
          "name": "stderr"
        },
        {
          "output_type": "stream",
          "text": [
            "\n",
            " Epoch 23, lr 1.0000000000000002e-06\n"
          ],
          "name": "stdout"
        },
        {
          "output_type": "stream",
          "text": [
            "Loss=0.020305030047893524 Batch_id=0 Accuracy=100.00:   0%|          | 1/469 [00:00<01:00,  7.70it/s]"
          ],
          "name": "stderr"
        },
        {
          "output_type": "stream",
          "text": [
            "\n",
            "Test set: Average loss: 0.0176, Accuracy: 9952/10000 (99.52%)\n",
            "\n"
          ],
          "name": "stdout"
        },
        {
          "output_type": "stream",
          "text": [
            "Loss=0.027436688542366028 Batch_id=468 Accuracy=99.44: 100%|██████████| 469/469 [01:03<00:00,  7.41it/s]\n"
          ],
          "name": "stderr"
        },
        {
          "output_type": "stream",
          "text": [
            "\n",
            " Epoch 24, lr 1.0000000000000002e-07\n",
            "\n",
            "Test set: Average loss: 0.0179, Accuracy: 9947/10000 (99.47%)\n",
            "\n"
          ],
          "name": "stdout"
        }
      ]
    },
    {
      "cell_type": "markdown",
      "metadata": {
        "id": "B4WXB_n6gS_z",
        "colab_type": "text"
      },
      "source": [
        "Create the model with Ghost BatchNormalization"
      ]
    },
    {
      "cell_type": "code",
      "metadata": {
        "id": "lRJNyPCkgFVN",
        "colab_type": "code",
        "colab": {
          "base_uri": "https://localhost:8080/",
          "height": 612
        },
        "outputId": "e3eb9825-f235-4a96-e0c2-3dc216ead652"
      },
      "source": [
        "model = create_model(device, gbatnor=True)\n",
        "model_name_gbn = \"EVA5:Submission-Session_6_Model-GhostBatchNormalization.pt\"\n",
        "save_path_gbn = F\"/content/gdrive/My Drive/Colab Notebooks/EVA5/{model_name_gbn}\"\n",
        "torch.save(model.state_dict(), save_path_gbn)\n",
        "print(\"Model Saved: {}\".format(model_name_gbn))"
      ],
      "execution_count": null,
      "outputs": [
        {
          "output_type": "stream",
          "text": [
            "Create the instance of the Net class with GBN = True\n",
            "----------------------------------------------------------------\n",
            "        Layer (type)               Output Shape         Param #\n",
            "================================================================\n",
            "            Conv2d-1            [-1, 8, 26, 26]              72\n",
            "              ReLU-2            [-1, 8, 26, 26]               0\n",
            "    GhostBatchNorm-3            [-1, 8, 26, 26]              16\n",
            "            Conv2d-4           [-1, 16, 24, 24]           1,152\n",
            "              ReLU-5           [-1, 16, 24, 24]               0\n",
            "    GhostBatchNorm-6           [-1, 16, 24, 24]              32\n",
            "         MaxPool2d-7           [-1, 16, 12, 12]               0\n",
            "            Conv2d-8            [-1, 8, 12, 12]             128\n",
            "              ReLU-9            [-1, 8, 12, 12]               0\n",
            "   GhostBatchNorm-10            [-1, 8, 12, 12]              16\n",
            "           Conv2d-11           [-1, 16, 10, 10]           1,152\n",
            "             ReLU-12           [-1, 16, 10, 10]               0\n",
            "   GhostBatchNorm-13           [-1, 16, 10, 10]              32\n",
            "           Conv2d-14             [-1, 32, 8, 8]           4,608\n",
            "             ReLU-15             [-1, 32, 8, 8]               0\n",
            "   GhostBatchNorm-16             [-1, 32, 8, 8]              64\n",
            "           Conv2d-17             [-1, 10, 8, 8]             320\n",
            "             ReLU-18             [-1, 10, 8, 8]               0\n",
            "   GhostBatchNorm-19             [-1, 10, 8, 8]              20\n",
            "        AvgPool2d-20             [-1, 10, 1, 1]               0\n",
            "================================================================\n",
            "Total params: 7,612\n",
            "Trainable params: 7,612\n",
            "Non-trainable params: 0\n",
            "----------------------------------------------------------------\n",
            "Input size (MB): 0.00\n",
            "Forward/backward pass size (MB): 0.48\n",
            "Params size (MB): 0.03\n",
            "Estimated Total Size (MB): 0.51\n",
            "----------------------------------------------------------------\n",
            "Model Saved: EVA5:Submission-Session_6_Model-GhostBatchNormalization.pt\n"
          ],
          "name": "stdout"
        }
      ]
    },
    {
      "cell_type": "markdown",
      "metadata": {
        "id": "6LpFmoRHfGTE",
        "colab_type": "text"
      },
      "source": [
        "4. with GBN"
      ]
    },
    {
      "cell_type": "code",
      "metadata": {
        "id": "FBL551u6g0Ad",
        "colab_type": "code",
        "colab": {
          "base_uri": "https://localhost:8080/",
          "height": 153
        },
        "outputId": "ed425e9f-508c-41d1-85eb-7cef6824e76d"
      },
      "source": [
        "train_loader, test_loader = init_train_test_loader(500)\n",
        "\n",
        "# with L1 and GBN\n",
        "init_training(model, device, train_loader, EPOCHS, False, 1e-5, False)\n",
        "\n",
        "total_losses.extend([test_losses])\n",
        "test_losses = []\n",
        "\n",
        "total_accuracies.extend([test_acc])\n",
        "test_acc = []"
      ],
      "execution_count": 42,
      "outputs": [
        {
          "output_type": "stream",
          "text": [
            "\r  0%|          | 0/120 [00:00<?, ?it/s]"
          ],
          "name": "stderr"
        },
        {
          "output_type": "stream",
          "text": [
            "\n",
            " Initialize train and test loader with Batch Size:500\n"
          ],
          "name": "stdout"
        },
        {
          "output_type": "stream",
          "text": [
            "Loss=2.2360382080078125 Batch_id=0 Accuracy=16.20:   0%|          | 0/120 [00:00<?, ?it/s]\n"
          ],
          "name": "stderr"
        },
        {
          "output_type": "stream",
          "text": [
            "\n",
            " Epoch 1, lr 0.01\n",
            "\n",
            "Test set: Average loss: 2.3049, Accuracy: 1135/10000 (11.35%)\n",
            "\n"
          ],
          "name": "stdout"
        }
      ]
    },
    {
      "cell_type": "markdown",
      "metadata": {
        "id": "pqVoR-i4fJcj",
        "colab_type": "text"
      },
      "source": [
        "5. with L1 and L2 with GBN"
      ]
    },
    {
      "cell_type": "code",
      "metadata": {
        "id": "CiJlIXDJg_dN",
        "colab_type": "code",
        "colab": {
          "base_uri": "https://localhost:8080/",
          "height": 1000
        },
        "outputId": "269655f1-cb7b-4fdc-d114-e5ea4b865ef2"
      },
      "source": [
        "# with L1, L2 and GBN\n",
        "init_training(model, device, train_loader, EPOCHS, True, 1e-5, True)\n",
        "\n",
        "total_losses.extend([test_losses])\n",
        "test_losses = []\n",
        "\n",
        "total_accuracies.extend([test_acc])\n",
        "test_acc = []"
      ],
      "execution_count": null,
      "outputs": [
        {
          "output_type": "stream",
          "text": [
            "Loss=0.0800144374370575 Batch_id=234 Accuracy=98.67: 100%|██████████| 235/235 [01:00<00:00,  3.90it/s]\n"
          ],
          "name": "stderr"
        },
        {
          "output_type": "stream",
          "text": [
            "\n",
            " Epoch 0, lr 0.01\n"
          ],
          "name": "stdout"
        },
        {
          "output_type": "stream",
          "text": [
            "\r  0%|          | 0/235 [00:00<?, ?it/s]"
          ],
          "name": "stderr"
        },
        {
          "output_type": "stream",
          "text": [
            "\n",
            "Test set: Average loss: 0.0353, Accuracy: 9921/10000 (99.21%)\n",
            "\n"
          ],
          "name": "stdout"
        },
        {
          "output_type": "stream",
          "text": [
            "Loss=0.08229415118694305 Batch_id=234 Accuracy=98.77: 100%|██████████| 235/235 [00:59<00:00,  3.94it/s]\n"
          ],
          "name": "stderr"
        },
        {
          "output_type": "stream",
          "text": [
            "\n",
            " Epoch 1, lr 0.01\n"
          ],
          "name": "stdout"
        },
        {
          "output_type": "stream",
          "text": [
            "\r  0%|          | 0/235 [00:00<?, ?it/s]"
          ],
          "name": "stderr"
        },
        {
          "output_type": "stream",
          "text": [
            "\n",
            "Test set: Average loss: 0.0341, Accuracy: 9922/10000 (99.22%)\n",
            "\n"
          ],
          "name": "stdout"
        },
        {
          "output_type": "stream",
          "text": [
            "Loss=0.055278994143009186 Batch_id=234 Accuracy=98.81: 100%|██████████| 235/235 [00:59<00:00,  3.95it/s]\n"
          ],
          "name": "stderr"
        },
        {
          "output_type": "stream",
          "text": [
            "\n",
            " Epoch 2, lr 0.01\n"
          ],
          "name": "stdout"
        },
        {
          "output_type": "stream",
          "text": [
            "\r  0%|          | 0/235 [00:00<?, ?it/s]"
          ],
          "name": "stderr"
        },
        {
          "output_type": "stream",
          "text": [
            "\n",
            "Test set: Average loss: 0.0328, Accuracy: 9926/10000 (99.26%)\n",
            "\n"
          ],
          "name": "stdout"
        },
        {
          "output_type": "stream",
          "text": [
            "Loss=0.06768303364515305 Batch_id=234 Accuracy=98.75: 100%|██████████| 235/235 [00:59<00:00,  3.98it/s]\n"
          ],
          "name": "stderr"
        },
        {
          "output_type": "stream",
          "text": [
            "\n",
            " Epoch 3, lr 0.01\n"
          ],
          "name": "stdout"
        },
        {
          "output_type": "stream",
          "text": [
            "\r  0%|          | 0/235 [00:00<?, ?it/s]"
          ],
          "name": "stderr"
        },
        {
          "output_type": "stream",
          "text": [
            "\n",
            "Test set: Average loss: 0.0350, Accuracy: 9920/10000 (99.20%)\n",
            "\n"
          ],
          "name": "stdout"
        },
        {
          "output_type": "stream",
          "text": [
            "Loss=0.13156276941299438 Batch_id=234 Accuracy=98.82: 100%|██████████| 235/235 [00:58<00:00,  4.01it/s]\n"
          ],
          "name": "stderr"
        },
        {
          "output_type": "stream",
          "text": [
            "\n",
            " Epoch 4, lr 0.001\n"
          ],
          "name": "stdout"
        },
        {
          "output_type": "stream",
          "text": [
            "\r  0%|          | 0/235 [00:00<?, ?it/s]"
          ],
          "name": "stderr"
        },
        {
          "output_type": "stream",
          "text": [
            "\n",
            "Test set: Average loss: 0.0325, Accuracy: 9925/10000 (99.25%)\n",
            "\n"
          ],
          "name": "stdout"
        },
        {
          "output_type": "stream",
          "text": [
            "Loss=0.0373641662299633 Batch_id=234 Accuracy=98.94: 100%|██████████| 235/235 [00:59<00:00,  3.98it/s]\n"
          ],
          "name": "stderr"
        },
        {
          "output_type": "stream",
          "text": [
            "\n",
            " Epoch 5, lr 0.001\n"
          ],
          "name": "stdout"
        },
        {
          "output_type": "stream",
          "text": [
            "\r  0%|          | 0/235 [00:00<?, ?it/s]"
          ],
          "name": "stderr"
        },
        {
          "output_type": "stream",
          "text": [
            "\n",
            "Test set: Average loss: 0.0288, Accuracy: 9928/10000 (99.28%)\n",
            "\n"
          ],
          "name": "stdout"
        },
        {
          "output_type": "stream",
          "text": [
            "Loss=0.07013726234436035 Batch_id=234 Accuracy=98.95: 100%|██████████| 235/235 [00:58<00:00,  3.99it/s]\n"
          ],
          "name": "stderr"
        },
        {
          "output_type": "stream",
          "text": [
            "\n",
            " Epoch 6, lr 0.001\n"
          ],
          "name": "stdout"
        },
        {
          "output_type": "stream",
          "text": [
            "\r  0%|          | 0/235 [00:00<?, ?it/s]"
          ],
          "name": "stderr"
        },
        {
          "output_type": "stream",
          "text": [
            "\n",
            "Test set: Average loss: 0.0286, Accuracy: 9933/10000 (99.33%)\n",
            "\n"
          ],
          "name": "stdout"
        },
        {
          "output_type": "stream",
          "text": [
            "Loss=0.08420909941196442 Batch_id=234 Accuracy=98.96: 100%|██████████| 235/235 [00:58<00:00,  4.00it/s]\n"
          ],
          "name": "stderr"
        },
        {
          "output_type": "stream",
          "text": [
            "\n",
            " Epoch 7, lr 0.001\n"
          ],
          "name": "stdout"
        },
        {
          "output_type": "stream",
          "text": [
            "\r  0%|          | 0/235 [00:00<?, ?it/s]"
          ],
          "name": "stderr"
        },
        {
          "output_type": "stream",
          "text": [
            "\n",
            "Test set: Average loss: 0.0280, Accuracy: 9935/10000 (99.35%)\n",
            "\n"
          ],
          "name": "stdout"
        },
        {
          "output_type": "stream",
          "text": [
            "Loss=0.021560411900281906 Batch_id=234 Accuracy=99.00: 100%|██████████| 235/235 [01:00<00:00,  3.89it/s]\n"
          ],
          "name": "stderr"
        },
        {
          "output_type": "stream",
          "text": [
            "\n",
            " Epoch 8, lr 0.001\n"
          ],
          "name": "stdout"
        },
        {
          "output_type": "stream",
          "text": [
            "\r  0%|          | 0/235 [00:00<?, ?it/s]"
          ],
          "name": "stderr"
        },
        {
          "output_type": "stream",
          "text": [
            "\n",
            "Test set: Average loss: 0.0282, Accuracy: 9937/10000 (99.37%)\n",
            "\n"
          ],
          "name": "stdout"
        },
        {
          "output_type": "stream",
          "text": [
            "Loss=0.05300115421414375 Batch_id=234 Accuracy=98.95: 100%|██████████| 235/235 [00:58<00:00,  4.00it/s]\n"
          ],
          "name": "stderr"
        },
        {
          "output_type": "stream",
          "text": [
            "\n",
            " Epoch 9, lr 0.0001\n"
          ],
          "name": "stdout"
        },
        {
          "output_type": "stream",
          "text": [
            "\r  0%|          | 0/235 [00:00<?, ?it/s]"
          ],
          "name": "stderr"
        },
        {
          "output_type": "stream",
          "text": [
            "\n",
            "Test set: Average loss: 0.0275, Accuracy: 9936/10000 (99.36%)\n",
            "\n"
          ],
          "name": "stdout"
        },
        {
          "output_type": "stream",
          "text": [
            "Loss=0.03600739687681198 Batch_id=234 Accuracy=98.99: 100%|██████████| 235/235 [00:59<00:00,  3.96it/s]\n"
          ],
          "name": "stderr"
        },
        {
          "output_type": "stream",
          "text": [
            "\n",
            " Epoch 10, lr 0.0001\n"
          ],
          "name": "stdout"
        },
        {
          "output_type": "stream",
          "text": [
            "\r  0%|          | 0/235 [00:00<?, ?it/s]"
          ],
          "name": "stderr"
        },
        {
          "output_type": "stream",
          "text": [
            "\n",
            "Test set: Average loss: 0.0277, Accuracy: 9937/10000 (99.37%)\n",
            "\n"
          ],
          "name": "stdout"
        },
        {
          "output_type": "stream",
          "text": [
            "Loss=0.05338791385293007 Batch_id=234 Accuracy=98.98: 100%|██████████| 235/235 [00:59<00:00,  3.98it/s]\n"
          ],
          "name": "stderr"
        },
        {
          "output_type": "stream",
          "text": [
            "\n",
            " Epoch 11, lr 0.0001\n"
          ],
          "name": "stdout"
        },
        {
          "output_type": "stream",
          "text": [
            "\r  0%|          | 0/235 [00:00<?, ?it/s]"
          ],
          "name": "stderr"
        },
        {
          "output_type": "stream",
          "text": [
            "\n",
            "Test set: Average loss: 0.0280, Accuracy: 9934/10000 (99.34%)\n",
            "\n"
          ],
          "name": "stdout"
        },
        {
          "output_type": "stream",
          "text": [
            "Loss=0.07333287596702576 Batch_id=234 Accuracy=99.01: 100%|██████████| 235/235 [00:58<00:00,  3.99it/s]\n"
          ],
          "name": "stderr"
        },
        {
          "output_type": "stream",
          "text": [
            "\n",
            " Epoch 12, lr 0.0001\n"
          ],
          "name": "stdout"
        },
        {
          "output_type": "stream",
          "text": [
            "\r  0%|          | 0/235 [00:00<?, ?it/s]"
          ],
          "name": "stderr"
        },
        {
          "output_type": "stream",
          "text": [
            "\n",
            "Test set: Average loss: 0.0274, Accuracy: 9935/10000 (99.35%)\n",
            "\n"
          ],
          "name": "stdout"
        },
        {
          "output_type": "stream",
          "text": [
            "Loss=0.05427956581115723 Batch_id=234 Accuracy=99.01: 100%|██████████| 235/235 [00:58<00:00,  3.99it/s]\n"
          ],
          "name": "stderr"
        },
        {
          "output_type": "stream",
          "text": [
            "\n",
            " Epoch 13, lr 0.0001\n"
          ],
          "name": "stdout"
        },
        {
          "output_type": "stream",
          "text": [
            "\r  0%|          | 0/235 [00:00<?, ?it/s]"
          ],
          "name": "stderr"
        },
        {
          "output_type": "stream",
          "text": [
            "\n",
            "Test set: Average loss: 0.0276, Accuracy: 9933/10000 (99.33%)\n",
            "\n"
          ],
          "name": "stdout"
        },
        {
          "output_type": "stream",
          "text": [
            "Loss=0.05330571159720421 Batch_id=234 Accuracy=98.99: 100%|██████████| 235/235 [00:59<00:00,  3.98it/s]\n"
          ],
          "name": "stderr"
        },
        {
          "output_type": "stream",
          "text": [
            "\n",
            " Epoch 14, lr 1e-05\n"
          ],
          "name": "stdout"
        },
        {
          "output_type": "stream",
          "text": [
            "\r  0%|          | 0/235 [00:00<?, ?it/s]"
          ],
          "name": "stderr"
        },
        {
          "output_type": "stream",
          "text": [
            "\n",
            "Test set: Average loss: 0.0276, Accuracy: 9935/10000 (99.35%)\n",
            "\n"
          ],
          "name": "stdout"
        },
        {
          "output_type": "stream",
          "text": [
            "Loss=0.05081332102417946 Batch_id=234 Accuracy=98.95: 100%|██████████| 235/235 [00:59<00:00,  3.97it/s]\n"
          ],
          "name": "stderr"
        },
        {
          "output_type": "stream",
          "text": [
            "\n",
            " Epoch 15, lr 1e-05\n"
          ],
          "name": "stdout"
        },
        {
          "output_type": "stream",
          "text": [
            "\r  0%|          | 0/235 [00:00<?, ?it/s]"
          ],
          "name": "stderr"
        },
        {
          "output_type": "stream",
          "text": [
            "\n",
            "Test set: Average loss: 0.0278, Accuracy: 9938/10000 (99.38%)\n",
            "\n"
          ],
          "name": "stdout"
        },
        {
          "output_type": "stream",
          "text": [
            "Loss=0.1302207112312317 Batch_id=234 Accuracy=98.98: 100%|██████████| 235/235 [00:58<00:00,  3.99it/s]\n"
          ],
          "name": "stderr"
        },
        {
          "output_type": "stream",
          "text": [
            "\n",
            " Epoch 16, lr 1e-05\n"
          ],
          "name": "stdout"
        },
        {
          "output_type": "stream",
          "text": [
            "\r  0%|          | 0/235 [00:00<?, ?it/s]"
          ],
          "name": "stderr"
        },
        {
          "output_type": "stream",
          "text": [
            "\n",
            "Test set: Average loss: 0.0279, Accuracy: 9937/10000 (99.37%)\n",
            "\n"
          ],
          "name": "stdout"
        },
        {
          "output_type": "stream",
          "text": [
            "Loss=0.06074576824903488 Batch_id=234 Accuracy=98.98: 100%|██████████| 235/235 [00:58<00:00,  4.00it/s]\n"
          ],
          "name": "stderr"
        },
        {
          "output_type": "stream",
          "text": [
            "\n",
            " Epoch 17, lr 1e-05\n"
          ],
          "name": "stdout"
        },
        {
          "output_type": "stream",
          "text": [
            "\r  0%|          | 0/235 [00:00<?, ?it/s]"
          ],
          "name": "stderr"
        },
        {
          "output_type": "stream",
          "text": [
            "\n",
            "Test set: Average loss: 0.0278, Accuracy: 9934/10000 (99.34%)\n",
            "\n"
          ],
          "name": "stdout"
        },
        {
          "output_type": "stream",
          "text": [
            "Loss=0.021094558760523796 Batch_id=234 Accuracy=99.03: 100%|██████████| 235/235 [00:58<00:00,  3.99it/s]\n"
          ],
          "name": "stderr"
        },
        {
          "output_type": "stream",
          "text": [
            "\n",
            " Epoch 18, lr 1e-05\n"
          ],
          "name": "stdout"
        },
        {
          "output_type": "stream",
          "text": [
            "\r  0%|          | 0/235 [00:00<?, ?it/s]"
          ],
          "name": "stderr"
        },
        {
          "output_type": "stream",
          "text": [
            "\n",
            "Test set: Average loss: 0.0277, Accuracy: 9937/10000 (99.37%)\n",
            "\n"
          ],
          "name": "stdout"
        },
        {
          "output_type": "stream",
          "text": [
            "Loss=0.06434619426727295 Batch_id=234 Accuracy=99.03: 100%|██████████| 235/235 [00:59<00:00,  3.98it/s]\n"
          ],
          "name": "stderr"
        },
        {
          "output_type": "stream",
          "text": [
            "\n",
            " Epoch 19, lr 1.0000000000000002e-06\n"
          ],
          "name": "stdout"
        },
        {
          "output_type": "stream",
          "text": [
            "\r  0%|          | 0/235 [00:00<?, ?it/s]"
          ],
          "name": "stderr"
        },
        {
          "output_type": "stream",
          "text": [
            "\n",
            "Test set: Average loss: 0.0278, Accuracy: 9935/10000 (99.35%)\n",
            "\n"
          ],
          "name": "stdout"
        },
        {
          "output_type": "stream",
          "text": [
            "Loss=0.0983160063624382 Batch_id=234 Accuracy=99.02: 100%|██████████| 235/235 [00:59<00:00,  3.95it/s]\n"
          ],
          "name": "stderr"
        },
        {
          "output_type": "stream",
          "text": [
            "\n",
            " Epoch 20, lr 1.0000000000000002e-06\n"
          ],
          "name": "stdout"
        },
        {
          "output_type": "stream",
          "text": [
            "\r  0%|          | 0/235 [00:00<?, ?it/s]"
          ],
          "name": "stderr"
        },
        {
          "output_type": "stream",
          "text": [
            "\n",
            "Test set: Average loss: 0.0277, Accuracy: 9933/10000 (99.33%)\n",
            "\n"
          ],
          "name": "stdout"
        },
        {
          "output_type": "stream",
          "text": [
            "Loss=0.0872030034661293 Batch_id=234 Accuracy=99.02: 100%|██████████| 235/235 [00:59<00:00,  3.98it/s]\n"
          ],
          "name": "stderr"
        },
        {
          "output_type": "stream",
          "text": [
            "\n",
            " Epoch 21, lr 1.0000000000000002e-06\n"
          ],
          "name": "stdout"
        },
        {
          "output_type": "stream",
          "text": [
            "\r  0%|          | 0/235 [00:00<?, ?it/s]"
          ],
          "name": "stderr"
        },
        {
          "output_type": "stream",
          "text": [
            "\n",
            "Test set: Average loss: 0.0276, Accuracy: 9937/10000 (99.37%)\n",
            "\n"
          ],
          "name": "stdout"
        },
        {
          "output_type": "stream",
          "text": [
            "Loss=0.04049811139702797 Batch_id=234 Accuracy=99.00: 100%|██████████| 235/235 [00:58<00:00,  4.00it/s]\n"
          ],
          "name": "stderr"
        },
        {
          "output_type": "stream",
          "text": [
            "\n",
            " Epoch 22, lr 1.0000000000000002e-06\n"
          ],
          "name": "stdout"
        },
        {
          "output_type": "stream",
          "text": [
            "\r  0%|          | 0/235 [00:00<?, ?it/s]"
          ],
          "name": "stderr"
        },
        {
          "output_type": "stream",
          "text": [
            "\n",
            "Test set: Average loss: 0.0277, Accuracy: 9935/10000 (99.35%)\n",
            "\n"
          ],
          "name": "stdout"
        },
        {
          "output_type": "stream",
          "text": [
            "Loss=0.05678234249353409 Batch_id=234 Accuracy=99.01: 100%|██████████| 235/235 [00:58<00:00,  3.99it/s]\n"
          ],
          "name": "stderr"
        },
        {
          "output_type": "stream",
          "text": [
            "\n",
            " Epoch 23, lr 1.0000000000000002e-06\n"
          ],
          "name": "stdout"
        },
        {
          "output_type": "stream",
          "text": [
            "\r  0%|          | 0/235 [00:00<?, ?it/s]"
          ],
          "name": "stderr"
        },
        {
          "output_type": "stream",
          "text": [
            "\n",
            "Test set: Average loss: 0.0279, Accuracy: 9935/10000 (99.35%)\n",
            "\n"
          ],
          "name": "stdout"
        },
        {
          "output_type": "stream",
          "text": [
            "Loss=0.026880713179707527 Batch_id=234 Accuracy=99.07: 100%|██████████| 235/235 [00:58<00:00,  4.01it/s]\n"
          ],
          "name": "stderr"
        },
        {
          "output_type": "stream",
          "text": [
            "\n",
            " Epoch 24, lr 1.0000000000000002e-07\n",
            "\n",
            "Test set: Average loss: 0.0277, Accuracy: 9935/10000 (99.35%)\n",
            "\n"
          ],
          "name": "stdout"
        }
      ]
    },
    {
      "cell_type": "code",
      "metadata": {
        "id": "2C0gv5Uwqg2j",
        "colab_type": "code",
        "colab": {
          "base_uri": "https://localhost:8080/",
          "height": 730
        },
        "outputId": "f2fe5d5e-115c-4573-cfcc-47b6d835ca6d"
      },
      "source": [
        "# \n",
        "from S6.S6_plot_stat_loss_acc import plot_stat\n",
        "plot_stat(total_losses, 'Loss')"
      ],
      "execution_count": null,
      "outputs": [
        {
          "output_type": "display_data",
          "data": {
            "image/png": "[encoded data removed]",
            "text/plain": [
              "<Figure size 1440x864 with 1 Axes>"
            ]
          },
          "metadata": {
            "tags": [],
            "needs_background": "light"
          }
        }
      ]
    },
    {
      "cell_type": "code",
      "metadata": {
        "id": "jrzeYvX3qmG8",
        "colab_type": "code",
        "colab": {
          "base_uri": "https://localhost:8080/",
          "height": 730
        },
        "outputId": "645d31aa-3eaf-4cf0-c82e-43668b668264"
      },
      "source": [
        "# \n",
        "plot_stat(total_accuracies, 'Acc')"
      ],
      "execution_count": null,
      "outputs": [
        {
          "output_type": "display_data",
          "data": {
            "image/png": "[encoded data removed]",
            "text/plain": [
              "<Figure size 1440x864 with 1 Axes>"
            ]
          },
          "metadata": {
            "tags": [],
            "needs_background": "light"
          }
        }
      ]
    },
    {
      "cell_type": "code",
      "metadata": {
        "id": "pcxNW_L44qzQ",
        "colab_type": "code",
        "colab": {
          "base_uri": "https://localhost:8080/",
          "height": 163
        },
        "outputId": "2ac3d7f1-42e4-4125-9e67-dad9320834db"
      },
      "source": [
        "misclassified_image_finder(model, save_path_gbn, device, train_loader, EPOCHS, \"Ghost Batch Normalization\")"
      ],
      "execution_count": 41,
      "outputs": [
        {
          "output_type": "error",
          "ename": "NameError",
          "evalue": "ignored",
          "traceback": [
            "\u001b[0;31m---------------------------------------------------------------------------\u001b[0m",
            "\u001b[0;31mNameError\u001b[0m                                 Traceback (most recent call last)",
            "\u001b[0;32m<ipython-input-41-da710b15eae2>\u001b[0m in \u001b[0;36m<module>\u001b[0;34m()\u001b[0m\n\u001b[0;32m----> 1\u001b[0;31m \u001b[0mmisclassified_image_finder\u001b[0m\u001b[0;34m(\u001b[0m\u001b[0mmodel\u001b[0m\u001b[0;34m,\u001b[0m \u001b[0msave_path_gbn\u001b[0m\u001b[0;34m,\u001b[0m \u001b[0mdevice\u001b[0m\u001b[0;34m,\u001b[0m \u001b[0mtrain_loader\u001b[0m\u001b[0;34m,\u001b[0m \u001b[0mEPOCHS\u001b[0m\u001b[0;34m,\u001b[0m \u001b[0;34m\"Ghost Batch Normalization\"\u001b[0m\u001b[0;34m)\u001b[0m\u001b[0;34m\u001b[0m\u001b[0;34m\u001b[0m\u001b[0m\n\u001b[0m",
            "\u001b[0;31mNameError\u001b[0m: name 'save_path_gbn' is not defined"
          ]
        }
      ]
    },
    {
      "cell_type": "markdown",
      "metadata": {
        "id": "DfKfRhnqO6mJ",
        "colab_type": "text"
      },
      "source": [
        "## Summary:\n",
        "\n",
        "A simple DNN with Total params=7,612 was created and trained for 25 epochs with L1, L2 Regularization, Batch Normalization and Ghost Batch Normalization. \n",
        "\n",
        "Following are the accuracy observed:\n",
        "\n",
        "> 1. with L1 + BN => **99.29%**\n",
        "2. with L2 + BN => **99.31%**\n",
        "3. with L1 and L2 with BN => **99.47%**\n",
        "4. with GBN => **98.9%**\n",
        "5. with L1 and L2 with GBN => **99.33%**\n",
        "\n",
        "Reference:\n",
        "* GBN:  https://github.com/apple/ml-cifar-10-faster/blob/master/utils.py\n",
        "\n"
      ]
    }
  ]
}